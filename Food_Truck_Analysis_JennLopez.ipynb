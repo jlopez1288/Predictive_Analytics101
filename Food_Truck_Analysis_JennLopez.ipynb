{
  "nbformat": 4,
  "nbformat_minor": 0,
  "metadata": {
    "colab": {
      "provenance": [],
      "authorship_tag": "ABX9TyMwxDryjfYKdgShlt5mjUfo",
      "include_colab_link": true
    },
    "kernelspec": {
      "name": "python3",
      "display_name": "Python 3"
    },
    "language_info": {
      "name": "python"
    }
  },
  "cells": [
    {
      "cell_type": "markdown",
      "metadata": {
        "id": "view-in-github",
        "colab_type": "text"
      },
      "source": [
        "<a href=\"https://colab.research.google.com/github/jlopez1288/Predictive_Analytics101/blob/main/Food_Truck_Analysis_JennLopez.ipynb\" target=\"_parent\"><img src=\"https://colab.research.google.com/assets/colab-badge.svg\" alt=\"Open In Colab\"/></a>"
      ]
    },
    {
      "cell_type": "markdown",
      "source": [
        "###Task 1: Define the problem"
      ],
      "metadata": {
        "id": "uGGreod2UspN"
      }
    },
    {
      "cell_type": "code",
      "source": [
        "##To analyze profits in this dataset"
      ],
      "metadata": {
        "id": "bCfdjapr9V4W"
      },
      "execution_count": 6,
      "outputs": []
    },
    {
      "cell_type": "markdown",
      "source": [
        "###Task 2a: Install the Needed Libraries"
      ],
      "metadata": {
        "id": "y8dxRwPQU8ib"
      }
    },
    {
      "cell_type": "code",
      "source": [
        "#no installation needed for new libraries"
      ],
      "metadata": {
        "id": "YBfu6AhRUhe0"
      },
      "execution_count": 7,
      "outputs": []
    },
    {
      "cell_type": "markdown",
      "source": [
        "###Task 2b: Import the Needed Libraries"
      ],
      "metadata": {
        "id": "RcPNaIxhVChM"
      }
    },
    {
      "cell_type": "code",
      "source": [
        "import pandas as pd\n",
        "import numpy as np\n",
        "import matplotlib.pyplot as plt\n",
        "plt.style.use('ggplot')\n",
        "plt.rcParams['figure.figsize']= (12, 8)\n",
        "import seaborn as sns\n",
        "sns.set()\n",
        "from sklearn.linear_model import LinearRegression\n",
        "from sklearn.model_selection import train_test_split"
      ],
      "metadata": {
        "id": "pT5F7YKTVB60"
      },
      "execution_count": 8,
      "outputs": []
    },
    {
      "cell_type": "markdown",
      "source": [
        "###Task 3: Load the Data"
      ],
      "metadata": {
        "id": "jBvjblKZVqqO"
      }
    },
    {
      "cell_type": "code",
      "source": [
        "Ft= pd.read_csv('https://raw.githubusercontent.com/glopez21/ML-Data/main/food_truck_data.txt')\n",
        "left_aligned_Ft = Ft.style.set_properties(**{'text-align': 'left'})\n",
        "display(left_aligned_Ft)"
      ],
      "metadata": {
        "colab": {
          "base_uri": "https://localhost:8080/",
          "height": 1000
        },
        "id": "qfczC4qWVvac",
        "outputId": "556751b7-162f-4644-8a78-dc09d63fdafa"
      },
      "execution_count": 9,
      "outputs": [
        {
          "output_type": "display_data",
          "data": {
            "text/plain": [
              "<pandas.io.formats.style.Styler at 0x7effc5ca6f10>"
            ],
            "text/html": [
              "<style type=\"text/css\">\n",
              "#T_f599b_row0_col0, #T_f599b_row0_col1, #T_f599b_row1_col0, #T_f599b_row1_col1, #T_f599b_row2_col0, #T_f599b_row2_col1, #T_f599b_row3_col0, #T_f599b_row3_col1, #T_f599b_row4_col0, #T_f599b_row4_col1, #T_f599b_row5_col0, #T_f599b_row5_col1, #T_f599b_row6_col0, #T_f599b_row6_col1, #T_f599b_row7_col0, #T_f599b_row7_col1, #T_f599b_row8_col0, #T_f599b_row8_col1, #T_f599b_row9_col0, #T_f599b_row9_col1, #T_f599b_row10_col0, #T_f599b_row10_col1, #T_f599b_row11_col0, #T_f599b_row11_col1, #T_f599b_row12_col0, #T_f599b_row12_col1, #T_f599b_row13_col0, #T_f599b_row13_col1, #T_f599b_row14_col0, #T_f599b_row14_col1, #T_f599b_row15_col0, #T_f599b_row15_col1, #T_f599b_row16_col0, #T_f599b_row16_col1, #T_f599b_row17_col0, #T_f599b_row17_col1, #T_f599b_row18_col0, #T_f599b_row18_col1, #T_f599b_row19_col0, #T_f599b_row19_col1, #T_f599b_row20_col0, #T_f599b_row20_col1, #T_f599b_row21_col0, #T_f599b_row21_col1, #T_f599b_row22_col0, #T_f599b_row22_col1, #T_f599b_row23_col0, #T_f599b_row23_col1, #T_f599b_row24_col0, #T_f599b_row24_col1, #T_f599b_row25_col0, #T_f599b_row25_col1, #T_f599b_row26_col0, #T_f599b_row26_col1, #T_f599b_row27_col0, #T_f599b_row27_col1, #T_f599b_row28_col0, #T_f599b_row28_col1, #T_f599b_row29_col0, #T_f599b_row29_col1, #T_f599b_row30_col0, #T_f599b_row30_col1, #T_f599b_row31_col0, #T_f599b_row31_col1, #T_f599b_row32_col0, #T_f599b_row32_col1, #T_f599b_row33_col0, #T_f599b_row33_col1, #T_f599b_row34_col0, #T_f599b_row34_col1, #T_f599b_row35_col0, #T_f599b_row35_col1, #T_f599b_row36_col0, #T_f599b_row36_col1, #T_f599b_row37_col0, #T_f599b_row37_col1, #T_f599b_row38_col0, #T_f599b_row38_col1, #T_f599b_row39_col0, #T_f599b_row39_col1, #T_f599b_row40_col0, #T_f599b_row40_col1, #T_f599b_row41_col0, #T_f599b_row41_col1, #T_f599b_row42_col0, #T_f599b_row42_col1, #T_f599b_row43_col0, #T_f599b_row43_col1, #T_f599b_row44_col0, #T_f599b_row44_col1, #T_f599b_row45_col0, #T_f599b_row45_col1, #T_f599b_row46_col0, #T_f599b_row46_col1, #T_f599b_row47_col0, #T_f599b_row47_col1, #T_f599b_row48_col0, #T_f599b_row48_col1, #T_f599b_row49_col0, #T_f599b_row49_col1, #T_f599b_row50_col0, #T_f599b_row50_col1, #T_f599b_row51_col0, #T_f599b_row51_col1, #T_f599b_row52_col0, #T_f599b_row52_col1, #T_f599b_row53_col0, #T_f599b_row53_col1, #T_f599b_row54_col0, #T_f599b_row54_col1, #T_f599b_row55_col0, #T_f599b_row55_col1, #T_f599b_row56_col0, #T_f599b_row56_col1, #T_f599b_row57_col0, #T_f599b_row57_col1, #T_f599b_row58_col0, #T_f599b_row58_col1, #T_f599b_row59_col0, #T_f599b_row59_col1, #T_f599b_row60_col0, #T_f599b_row60_col1, #T_f599b_row61_col0, #T_f599b_row61_col1, #T_f599b_row62_col0, #T_f599b_row62_col1, #T_f599b_row63_col0, #T_f599b_row63_col1, #T_f599b_row64_col0, #T_f599b_row64_col1, #T_f599b_row65_col0, #T_f599b_row65_col1, #T_f599b_row66_col0, #T_f599b_row66_col1, #T_f599b_row67_col0, #T_f599b_row67_col1, #T_f599b_row68_col0, #T_f599b_row68_col1, #T_f599b_row69_col0, #T_f599b_row69_col1, #T_f599b_row70_col0, #T_f599b_row70_col1, #T_f599b_row71_col0, #T_f599b_row71_col1, #T_f599b_row72_col0, #T_f599b_row72_col1, #T_f599b_row73_col0, #T_f599b_row73_col1, #T_f599b_row74_col0, #T_f599b_row74_col1, #T_f599b_row75_col0, #T_f599b_row75_col1, #T_f599b_row76_col0, #T_f599b_row76_col1, #T_f599b_row77_col0, #T_f599b_row77_col1, #T_f599b_row78_col0, #T_f599b_row78_col1, #T_f599b_row79_col0, #T_f599b_row79_col1, #T_f599b_row80_col0, #T_f599b_row80_col1, #T_f599b_row81_col0, #T_f599b_row81_col1, #T_f599b_row82_col0, #T_f599b_row82_col1, #T_f599b_row83_col0, #T_f599b_row83_col1, #T_f599b_row84_col0, #T_f599b_row84_col1, #T_f599b_row85_col0, #T_f599b_row85_col1, #T_f599b_row86_col0, #T_f599b_row86_col1, #T_f599b_row87_col0, #T_f599b_row87_col1, #T_f599b_row88_col0, #T_f599b_row88_col1, #T_f599b_row89_col0, #T_f599b_row89_col1, #T_f599b_row90_col0, #T_f599b_row90_col1, #T_f599b_row91_col0, #T_f599b_row91_col1, #T_f599b_row92_col0, #T_f599b_row92_col1, #T_f599b_row93_col0, #T_f599b_row93_col1, #T_f599b_row94_col0, #T_f599b_row94_col1, #T_f599b_row95_col0, #T_f599b_row95_col1, #T_f599b_row96_col0, #T_f599b_row96_col1 {\n",
              "  text-align: left;\n",
              "}\n",
              "</style>\n",
              "<table id=\"T_f599b_\" class=\"dataframe\">\n",
              "  <thead>\n",
              "    <tr>\n",
              "      <th class=\"blank level0\" >&nbsp;</th>\n",
              "      <th class=\"col_heading level0 col0\" >Population</th>\n",
              "      <th class=\"col_heading level0 col1\" >Profit</th>\n",
              "    </tr>\n",
              "  </thead>\n",
              "  <tbody>\n",
              "    <tr>\n",
              "      <th id=\"T_f599b_level0_row0\" class=\"row_heading level0 row0\" >0</th>\n",
              "      <td id=\"T_f599b_row0_col0\" class=\"data row0 col0\" >6.110100</td>\n",
              "      <td id=\"T_f599b_row0_col1\" class=\"data row0 col1\" >17.592000</td>\n",
              "    </tr>\n",
              "    <tr>\n",
              "      <th id=\"T_f599b_level0_row1\" class=\"row_heading level0 row1\" >1</th>\n",
              "      <td id=\"T_f599b_row1_col0\" class=\"data row1 col0\" >5.527700</td>\n",
              "      <td id=\"T_f599b_row1_col1\" class=\"data row1 col1\" >9.130200</td>\n",
              "    </tr>\n",
              "    <tr>\n",
              "      <th id=\"T_f599b_level0_row2\" class=\"row_heading level0 row2\" >2</th>\n",
              "      <td id=\"T_f599b_row2_col0\" class=\"data row2 col0\" >8.518600</td>\n",
              "      <td id=\"T_f599b_row2_col1\" class=\"data row2 col1\" >13.662000</td>\n",
              "    </tr>\n",
              "    <tr>\n",
              "      <th id=\"T_f599b_level0_row3\" class=\"row_heading level0 row3\" >3</th>\n",
              "      <td id=\"T_f599b_row3_col0\" class=\"data row3 col0\" >7.003200</td>\n",
              "      <td id=\"T_f599b_row3_col1\" class=\"data row3 col1\" >11.854000</td>\n",
              "    </tr>\n",
              "    <tr>\n",
              "      <th id=\"T_f599b_level0_row4\" class=\"row_heading level0 row4\" >4</th>\n",
              "      <td id=\"T_f599b_row4_col0\" class=\"data row4 col0\" >5.859800</td>\n",
              "      <td id=\"T_f599b_row4_col1\" class=\"data row4 col1\" >6.823300</td>\n",
              "    </tr>\n",
              "    <tr>\n",
              "      <th id=\"T_f599b_level0_row5\" class=\"row_heading level0 row5\" >5</th>\n",
              "      <td id=\"T_f599b_row5_col0\" class=\"data row5 col0\" >8.382900</td>\n",
              "      <td id=\"T_f599b_row5_col1\" class=\"data row5 col1\" >11.886000</td>\n",
              "    </tr>\n",
              "    <tr>\n",
              "      <th id=\"T_f599b_level0_row6\" class=\"row_heading level0 row6\" >6</th>\n",
              "      <td id=\"T_f599b_row6_col0\" class=\"data row6 col0\" >7.476400</td>\n",
              "      <td id=\"T_f599b_row6_col1\" class=\"data row6 col1\" >4.348300</td>\n",
              "    </tr>\n",
              "    <tr>\n",
              "      <th id=\"T_f599b_level0_row7\" class=\"row_heading level0 row7\" >7</th>\n",
              "      <td id=\"T_f599b_row7_col0\" class=\"data row7 col0\" >8.578100</td>\n",
              "      <td id=\"T_f599b_row7_col1\" class=\"data row7 col1\" >12.000000</td>\n",
              "    </tr>\n",
              "    <tr>\n",
              "      <th id=\"T_f599b_level0_row8\" class=\"row_heading level0 row8\" >8</th>\n",
              "      <td id=\"T_f599b_row8_col0\" class=\"data row8 col0\" >6.486200</td>\n",
              "      <td id=\"T_f599b_row8_col1\" class=\"data row8 col1\" >6.598700</td>\n",
              "    </tr>\n",
              "    <tr>\n",
              "      <th id=\"T_f599b_level0_row9\" class=\"row_heading level0 row9\" >9</th>\n",
              "      <td id=\"T_f599b_row9_col0\" class=\"data row9 col0\" >5.054600</td>\n",
              "      <td id=\"T_f599b_row9_col1\" class=\"data row9 col1\" >3.816600</td>\n",
              "    </tr>\n",
              "    <tr>\n",
              "      <th id=\"T_f599b_level0_row10\" class=\"row_heading level0 row10\" >10</th>\n",
              "      <td id=\"T_f599b_row10_col0\" class=\"data row10 col0\" >5.710700</td>\n",
              "      <td id=\"T_f599b_row10_col1\" class=\"data row10 col1\" >3.252200</td>\n",
              "    </tr>\n",
              "    <tr>\n",
              "      <th id=\"T_f599b_level0_row11\" class=\"row_heading level0 row11\" >11</th>\n",
              "      <td id=\"T_f599b_row11_col0\" class=\"data row11 col0\" >14.164000</td>\n",
              "      <td id=\"T_f599b_row11_col1\" class=\"data row11 col1\" >15.505000</td>\n",
              "    </tr>\n",
              "    <tr>\n",
              "      <th id=\"T_f599b_level0_row12\" class=\"row_heading level0 row12\" >12</th>\n",
              "      <td id=\"T_f599b_row12_col0\" class=\"data row12 col0\" >5.734000</td>\n",
              "      <td id=\"T_f599b_row12_col1\" class=\"data row12 col1\" >3.155100</td>\n",
              "    </tr>\n",
              "    <tr>\n",
              "      <th id=\"T_f599b_level0_row13\" class=\"row_heading level0 row13\" >13</th>\n",
              "      <td id=\"T_f599b_row13_col0\" class=\"data row13 col0\" >8.408400</td>\n",
              "      <td id=\"T_f599b_row13_col1\" class=\"data row13 col1\" >7.225800</td>\n",
              "    </tr>\n",
              "    <tr>\n",
              "      <th id=\"T_f599b_level0_row14\" class=\"row_heading level0 row14\" >14</th>\n",
              "      <td id=\"T_f599b_row14_col0\" class=\"data row14 col0\" >5.640700</td>\n",
              "      <td id=\"T_f599b_row14_col1\" class=\"data row14 col1\" >0.716180</td>\n",
              "    </tr>\n",
              "    <tr>\n",
              "      <th id=\"T_f599b_level0_row15\" class=\"row_heading level0 row15\" >15</th>\n",
              "      <td id=\"T_f599b_row15_col0\" class=\"data row15 col0\" >5.379400</td>\n",
              "      <td id=\"T_f599b_row15_col1\" class=\"data row15 col1\" >3.512900</td>\n",
              "    </tr>\n",
              "    <tr>\n",
              "      <th id=\"T_f599b_level0_row16\" class=\"row_heading level0 row16\" >16</th>\n",
              "      <td id=\"T_f599b_row16_col0\" class=\"data row16 col0\" >6.365400</td>\n",
              "      <td id=\"T_f599b_row16_col1\" class=\"data row16 col1\" >5.304800</td>\n",
              "    </tr>\n",
              "    <tr>\n",
              "      <th id=\"T_f599b_level0_row17\" class=\"row_heading level0 row17\" >17</th>\n",
              "      <td id=\"T_f599b_row17_col0\" class=\"data row17 col0\" >5.130100</td>\n",
              "      <td id=\"T_f599b_row17_col1\" class=\"data row17 col1\" >0.560770</td>\n",
              "    </tr>\n",
              "    <tr>\n",
              "      <th id=\"T_f599b_level0_row18\" class=\"row_heading level0 row18\" >18</th>\n",
              "      <td id=\"T_f599b_row18_col0\" class=\"data row18 col0\" >6.429600</td>\n",
              "      <td id=\"T_f599b_row18_col1\" class=\"data row18 col1\" >3.651800</td>\n",
              "    </tr>\n",
              "    <tr>\n",
              "      <th id=\"T_f599b_level0_row19\" class=\"row_heading level0 row19\" >19</th>\n",
              "      <td id=\"T_f599b_row19_col0\" class=\"data row19 col0\" >7.070800</td>\n",
              "      <td id=\"T_f599b_row19_col1\" class=\"data row19 col1\" >5.389300</td>\n",
              "    </tr>\n",
              "    <tr>\n",
              "      <th id=\"T_f599b_level0_row20\" class=\"row_heading level0 row20\" >20</th>\n",
              "      <td id=\"T_f599b_row20_col0\" class=\"data row20 col0\" >6.189100</td>\n",
              "      <td id=\"T_f599b_row20_col1\" class=\"data row20 col1\" >3.138600</td>\n",
              "    </tr>\n",
              "    <tr>\n",
              "      <th id=\"T_f599b_level0_row21\" class=\"row_heading level0 row21\" >21</th>\n",
              "      <td id=\"T_f599b_row21_col0\" class=\"data row21 col0\" >20.270000</td>\n",
              "      <td id=\"T_f599b_row21_col1\" class=\"data row21 col1\" >21.767000</td>\n",
              "    </tr>\n",
              "    <tr>\n",
              "      <th id=\"T_f599b_level0_row22\" class=\"row_heading level0 row22\" >22</th>\n",
              "      <td id=\"T_f599b_row22_col0\" class=\"data row22 col0\" >5.490100</td>\n",
              "      <td id=\"T_f599b_row22_col1\" class=\"data row22 col1\" >4.263000</td>\n",
              "    </tr>\n",
              "    <tr>\n",
              "      <th id=\"T_f599b_level0_row23\" class=\"row_heading level0 row23\" >23</th>\n",
              "      <td id=\"T_f599b_row23_col0\" class=\"data row23 col0\" >6.326100</td>\n",
              "      <td id=\"T_f599b_row23_col1\" class=\"data row23 col1\" >5.187500</td>\n",
              "    </tr>\n",
              "    <tr>\n",
              "      <th id=\"T_f599b_level0_row24\" class=\"row_heading level0 row24\" >24</th>\n",
              "      <td id=\"T_f599b_row24_col0\" class=\"data row24 col0\" >5.564900</td>\n",
              "      <td id=\"T_f599b_row24_col1\" class=\"data row24 col1\" >3.082500</td>\n",
              "    </tr>\n",
              "    <tr>\n",
              "      <th id=\"T_f599b_level0_row25\" class=\"row_heading level0 row25\" >25</th>\n",
              "      <td id=\"T_f599b_row25_col0\" class=\"data row25 col0\" >18.945000</td>\n",
              "      <td id=\"T_f599b_row25_col1\" class=\"data row25 col1\" >22.638000</td>\n",
              "    </tr>\n",
              "    <tr>\n",
              "      <th id=\"T_f599b_level0_row26\" class=\"row_heading level0 row26\" >26</th>\n",
              "      <td id=\"T_f599b_row26_col0\" class=\"data row26 col0\" >12.828000</td>\n",
              "      <td id=\"T_f599b_row26_col1\" class=\"data row26 col1\" >13.501000</td>\n",
              "    </tr>\n",
              "    <tr>\n",
              "      <th id=\"T_f599b_level0_row27\" class=\"row_heading level0 row27\" >27</th>\n",
              "      <td id=\"T_f599b_row27_col0\" class=\"data row27 col0\" >10.957000</td>\n",
              "      <td id=\"T_f599b_row27_col1\" class=\"data row27 col1\" >7.046700</td>\n",
              "    </tr>\n",
              "    <tr>\n",
              "      <th id=\"T_f599b_level0_row28\" class=\"row_heading level0 row28\" >28</th>\n",
              "      <td id=\"T_f599b_row28_col0\" class=\"data row28 col0\" >13.176000</td>\n",
              "      <td id=\"T_f599b_row28_col1\" class=\"data row28 col1\" >14.692000</td>\n",
              "    </tr>\n",
              "    <tr>\n",
              "      <th id=\"T_f599b_level0_row29\" class=\"row_heading level0 row29\" >29</th>\n",
              "      <td id=\"T_f599b_row29_col0\" class=\"data row29 col0\" >22.203000</td>\n",
              "      <td id=\"T_f599b_row29_col1\" class=\"data row29 col1\" >24.147000</td>\n",
              "    </tr>\n",
              "    <tr>\n",
              "      <th id=\"T_f599b_level0_row30\" class=\"row_heading level0 row30\" >30</th>\n",
              "      <td id=\"T_f599b_row30_col0\" class=\"data row30 col0\" >5.252400</td>\n",
              "      <td id=\"T_f599b_row30_col1\" class=\"data row30 col1\" >-1.220000</td>\n",
              "    </tr>\n",
              "    <tr>\n",
              "      <th id=\"T_f599b_level0_row31\" class=\"row_heading level0 row31\" >31</th>\n",
              "      <td id=\"T_f599b_row31_col0\" class=\"data row31 col0\" >6.589400</td>\n",
              "      <td id=\"T_f599b_row31_col1\" class=\"data row31 col1\" >5.996600</td>\n",
              "    </tr>\n",
              "    <tr>\n",
              "      <th id=\"T_f599b_level0_row32\" class=\"row_heading level0 row32\" >32</th>\n",
              "      <td id=\"T_f599b_row32_col0\" class=\"data row32 col0\" >9.248200</td>\n",
              "      <td id=\"T_f599b_row32_col1\" class=\"data row32 col1\" >12.134000</td>\n",
              "    </tr>\n",
              "    <tr>\n",
              "      <th id=\"T_f599b_level0_row33\" class=\"row_heading level0 row33\" >33</th>\n",
              "      <td id=\"T_f599b_row33_col0\" class=\"data row33 col0\" >5.891800</td>\n",
              "      <td id=\"T_f599b_row33_col1\" class=\"data row33 col1\" >1.849500</td>\n",
              "    </tr>\n",
              "    <tr>\n",
              "      <th id=\"T_f599b_level0_row34\" class=\"row_heading level0 row34\" >34</th>\n",
              "      <td id=\"T_f599b_row34_col0\" class=\"data row34 col0\" >8.211100</td>\n",
              "      <td id=\"T_f599b_row34_col1\" class=\"data row34 col1\" >6.542600</td>\n",
              "    </tr>\n",
              "    <tr>\n",
              "      <th id=\"T_f599b_level0_row35\" class=\"row_heading level0 row35\" >35</th>\n",
              "      <td id=\"T_f599b_row35_col0\" class=\"data row35 col0\" >7.933400</td>\n",
              "      <td id=\"T_f599b_row35_col1\" class=\"data row35 col1\" >4.562300</td>\n",
              "    </tr>\n",
              "    <tr>\n",
              "      <th id=\"T_f599b_level0_row36\" class=\"row_heading level0 row36\" >36</th>\n",
              "      <td id=\"T_f599b_row36_col0\" class=\"data row36 col0\" >8.095900</td>\n",
              "      <td id=\"T_f599b_row36_col1\" class=\"data row36 col1\" >4.116400</td>\n",
              "    </tr>\n",
              "    <tr>\n",
              "      <th id=\"T_f599b_level0_row37\" class=\"row_heading level0 row37\" >37</th>\n",
              "      <td id=\"T_f599b_row37_col0\" class=\"data row37 col0\" >5.606300</td>\n",
              "      <td id=\"T_f599b_row37_col1\" class=\"data row37 col1\" >3.392800</td>\n",
              "    </tr>\n",
              "    <tr>\n",
              "      <th id=\"T_f599b_level0_row38\" class=\"row_heading level0 row38\" >38</th>\n",
              "      <td id=\"T_f599b_row38_col0\" class=\"data row38 col0\" >12.836000</td>\n",
              "      <td id=\"T_f599b_row38_col1\" class=\"data row38 col1\" >10.117000</td>\n",
              "    </tr>\n",
              "    <tr>\n",
              "      <th id=\"T_f599b_level0_row39\" class=\"row_heading level0 row39\" >39</th>\n",
              "      <td id=\"T_f599b_row39_col0\" class=\"data row39 col0\" >6.353400</td>\n",
              "      <td id=\"T_f599b_row39_col1\" class=\"data row39 col1\" >5.497400</td>\n",
              "    </tr>\n",
              "    <tr>\n",
              "      <th id=\"T_f599b_level0_row40\" class=\"row_heading level0 row40\" >40</th>\n",
              "      <td id=\"T_f599b_row40_col0\" class=\"data row40 col0\" >5.406900</td>\n",
              "      <td id=\"T_f599b_row40_col1\" class=\"data row40 col1\" >0.556570</td>\n",
              "    </tr>\n",
              "    <tr>\n",
              "      <th id=\"T_f599b_level0_row41\" class=\"row_heading level0 row41\" >41</th>\n",
              "      <td id=\"T_f599b_row41_col0\" class=\"data row41 col0\" >6.882500</td>\n",
              "      <td id=\"T_f599b_row41_col1\" class=\"data row41 col1\" >3.911500</td>\n",
              "    </tr>\n",
              "    <tr>\n",
              "      <th id=\"T_f599b_level0_row42\" class=\"row_heading level0 row42\" >42</th>\n",
              "      <td id=\"T_f599b_row42_col0\" class=\"data row42 col0\" >11.708000</td>\n",
              "      <td id=\"T_f599b_row42_col1\" class=\"data row42 col1\" >5.385400</td>\n",
              "    </tr>\n",
              "    <tr>\n",
              "      <th id=\"T_f599b_level0_row43\" class=\"row_heading level0 row43\" >43</th>\n",
              "      <td id=\"T_f599b_row43_col0\" class=\"data row43 col0\" >5.773700</td>\n",
              "      <td id=\"T_f599b_row43_col1\" class=\"data row43 col1\" >2.440600</td>\n",
              "    </tr>\n",
              "    <tr>\n",
              "      <th id=\"T_f599b_level0_row44\" class=\"row_heading level0 row44\" >44</th>\n",
              "      <td id=\"T_f599b_row44_col0\" class=\"data row44 col0\" >7.824700</td>\n",
              "      <td id=\"T_f599b_row44_col1\" class=\"data row44 col1\" >6.731800</td>\n",
              "    </tr>\n",
              "    <tr>\n",
              "      <th id=\"T_f599b_level0_row45\" class=\"row_heading level0 row45\" >45</th>\n",
              "      <td id=\"T_f599b_row45_col0\" class=\"data row45 col0\" >7.093100</td>\n",
              "      <td id=\"T_f599b_row45_col1\" class=\"data row45 col1\" >1.046300</td>\n",
              "    </tr>\n",
              "    <tr>\n",
              "      <th id=\"T_f599b_level0_row46\" class=\"row_heading level0 row46\" >46</th>\n",
              "      <td id=\"T_f599b_row46_col0\" class=\"data row46 col0\" >5.070200</td>\n",
              "      <td id=\"T_f599b_row46_col1\" class=\"data row46 col1\" >5.133700</td>\n",
              "    </tr>\n",
              "    <tr>\n",
              "      <th id=\"T_f599b_level0_row47\" class=\"row_heading level0 row47\" >47</th>\n",
              "      <td id=\"T_f599b_row47_col0\" class=\"data row47 col0\" >5.801400</td>\n",
              "      <td id=\"T_f599b_row47_col1\" class=\"data row47 col1\" >1.844000</td>\n",
              "    </tr>\n",
              "    <tr>\n",
              "      <th id=\"T_f599b_level0_row48\" class=\"row_heading level0 row48\" >48</th>\n",
              "      <td id=\"T_f599b_row48_col0\" class=\"data row48 col0\" >11.700000</td>\n",
              "      <td id=\"T_f599b_row48_col1\" class=\"data row48 col1\" >8.004300</td>\n",
              "    </tr>\n",
              "    <tr>\n",
              "      <th id=\"T_f599b_level0_row49\" class=\"row_heading level0 row49\" >49</th>\n",
              "      <td id=\"T_f599b_row49_col0\" class=\"data row49 col0\" >5.541600</td>\n",
              "      <td id=\"T_f599b_row49_col1\" class=\"data row49 col1\" >1.017900</td>\n",
              "    </tr>\n",
              "    <tr>\n",
              "      <th id=\"T_f599b_level0_row50\" class=\"row_heading level0 row50\" >50</th>\n",
              "      <td id=\"T_f599b_row50_col0\" class=\"data row50 col0\" >7.540200</td>\n",
              "      <td id=\"T_f599b_row50_col1\" class=\"data row50 col1\" >6.750400</td>\n",
              "    </tr>\n",
              "    <tr>\n",
              "      <th id=\"T_f599b_level0_row51\" class=\"row_heading level0 row51\" >51</th>\n",
              "      <td id=\"T_f599b_row51_col0\" class=\"data row51 col0\" >5.307700</td>\n",
              "      <td id=\"T_f599b_row51_col1\" class=\"data row51 col1\" >1.839600</td>\n",
              "    </tr>\n",
              "    <tr>\n",
              "      <th id=\"T_f599b_level0_row52\" class=\"row_heading level0 row52\" >52</th>\n",
              "      <td id=\"T_f599b_row52_col0\" class=\"data row52 col0\" >7.423900</td>\n",
              "      <td id=\"T_f599b_row52_col1\" class=\"data row52 col1\" >4.288500</td>\n",
              "    </tr>\n",
              "    <tr>\n",
              "      <th id=\"T_f599b_level0_row53\" class=\"row_heading level0 row53\" >53</th>\n",
              "      <td id=\"T_f599b_row53_col0\" class=\"data row53 col0\" >7.603100</td>\n",
              "      <td id=\"T_f599b_row53_col1\" class=\"data row53 col1\" >4.998100</td>\n",
              "    </tr>\n",
              "    <tr>\n",
              "      <th id=\"T_f599b_level0_row54\" class=\"row_heading level0 row54\" >54</th>\n",
              "      <td id=\"T_f599b_row54_col0\" class=\"data row54 col0\" >6.332800</td>\n",
              "      <td id=\"T_f599b_row54_col1\" class=\"data row54 col1\" >1.423300</td>\n",
              "    </tr>\n",
              "    <tr>\n",
              "      <th id=\"T_f599b_level0_row55\" class=\"row_heading level0 row55\" >55</th>\n",
              "      <td id=\"T_f599b_row55_col0\" class=\"data row55 col0\" >6.358900</td>\n",
              "      <td id=\"T_f599b_row55_col1\" class=\"data row55 col1\" >-1.421100</td>\n",
              "    </tr>\n",
              "    <tr>\n",
              "      <th id=\"T_f599b_level0_row56\" class=\"row_heading level0 row56\" >56</th>\n",
              "      <td id=\"T_f599b_row56_col0\" class=\"data row56 col0\" >6.274200</td>\n",
              "      <td id=\"T_f599b_row56_col1\" class=\"data row56 col1\" >2.475600</td>\n",
              "    </tr>\n",
              "    <tr>\n",
              "      <th id=\"T_f599b_level0_row57\" class=\"row_heading level0 row57\" >57</th>\n",
              "      <td id=\"T_f599b_row57_col0\" class=\"data row57 col0\" >5.639700</td>\n",
              "      <td id=\"T_f599b_row57_col1\" class=\"data row57 col1\" >4.604200</td>\n",
              "    </tr>\n",
              "    <tr>\n",
              "      <th id=\"T_f599b_level0_row58\" class=\"row_heading level0 row58\" >58</th>\n",
              "      <td id=\"T_f599b_row58_col0\" class=\"data row58 col0\" >9.310200</td>\n",
              "      <td id=\"T_f599b_row58_col1\" class=\"data row58 col1\" >3.962400</td>\n",
              "    </tr>\n",
              "    <tr>\n",
              "      <th id=\"T_f599b_level0_row59\" class=\"row_heading level0 row59\" >59</th>\n",
              "      <td id=\"T_f599b_row59_col0\" class=\"data row59 col0\" >9.453600</td>\n",
              "      <td id=\"T_f599b_row59_col1\" class=\"data row59 col1\" >5.414100</td>\n",
              "    </tr>\n",
              "    <tr>\n",
              "      <th id=\"T_f599b_level0_row60\" class=\"row_heading level0 row60\" >60</th>\n",
              "      <td id=\"T_f599b_row60_col0\" class=\"data row60 col0\" >8.825400</td>\n",
              "      <td id=\"T_f599b_row60_col1\" class=\"data row60 col1\" >5.169400</td>\n",
              "    </tr>\n",
              "    <tr>\n",
              "      <th id=\"T_f599b_level0_row61\" class=\"row_heading level0 row61\" >61</th>\n",
              "      <td id=\"T_f599b_row61_col0\" class=\"data row61 col0\" >5.179300</td>\n",
              "      <td id=\"T_f599b_row61_col1\" class=\"data row61 col1\" >-0.742790</td>\n",
              "    </tr>\n",
              "    <tr>\n",
              "      <th id=\"T_f599b_level0_row62\" class=\"row_heading level0 row62\" >62</th>\n",
              "      <td id=\"T_f599b_row62_col0\" class=\"data row62 col0\" >21.279000</td>\n",
              "      <td id=\"T_f599b_row62_col1\" class=\"data row62 col1\" >17.929000</td>\n",
              "    </tr>\n",
              "    <tr>\n",
              "      <th id=\"T_f599b_level0_row63\" class=\"row_heading level0 row63\" >63</th>\n",
              "      <td id=\"T_f599b_row63_col0\" class=\"data row63 col0\" >14.908000</td>\n",
              "      <td id=\"T_f599b_row63_col1\" class=\"data row63 col1\" >12.054000</td>\n",
              "    </tr>\n",
              "    <tr>\n",
              "      <th id=\"T_f599b_level0_row64\" class=\"row_heading level0 row64\" >64</th>\n",
              "      <td id=\"T_f599b_row64_col0\" class=\"data row64 col0\" >18.959000</td>\n",
              "      <td id=\"T_f599b_row64_col1\" class=\"data row64 col1\" >17.054000</td>\n",
              "    </tr>\n",
              "    <tr>\n",
              "      <th id=\"T_f599b_level0_row65\" class=\"row_heading level0 row65\" >65</th>\n",
              "      <td id=\"T_f599b_row65_col0\" class=\"data row65 col0\" >7.218200</td>\n",
              "      <td id=\"T_f599b_row65_col1\" class=\"data row65 col1\" >4.885200</td>\n",
              "    </tr>\n",
              "    <tr>\n",
              "      <th id=\"T_f599b_level0_row66\" class=\"row_heading level0 row66\" >66</th>\n",
              "      <td id=\"T_f599b_row66_col0\" class=\"data row66 col0\" >8.295100</td>\n",
              "      <td id=\"T_f599b_row66_col1\" class=\"data row66 col1\" >5.744200</td>\n",
              "    </tr>\n",
              "    <tr>\n",
              "      <th id=\"T_f599b_level0_row67\" class=\"row_heading level0 row67\" >67</th>\n",
              "      <td id=\"T_f599b_row67_col0\" class=\"data row67 col0\" >10.236000</td>\n",
              "      <td id=\"T_f599b_row67_col1\" class=\"data row67 col1\" >7.775400</td>\n",
              "    </tr>\n",
              "    <tr>\n",
              "      <th id=\"T_f599b_level0_row68\" class=\"row_heading level0 row68\" >68</th>\n",
              "      <td id=\"T_f599b_row68_col0\" class=\"data row68 col0\" >5.499400</td>\n",
              "      <td id=\"T_f599b_row68_col1\" class=\"data row68 col1\" >1.017300</td>\n",
              "    </tr>\n",
              "    <tr>\n",
              "      <th id=\"T_f599b_level0_row69\" class=\"row_heading level0 row69\" >69</th>\n",
              "      <td id=\"T_f599b_row69_col0\" class=\"data row69 col0\" >20.341000</td>\n",
              "      <td id=\"T_f599b_row69_col1\" class=\"data row69 col1\" >20.992000</td>\n",
              "    </tr>\n",
              "    <tr>\n",
              "      <th id=\"T_f599b_level0_row70\" class=\"row_heading level0 row70\" >70</th>\n",
              "      <td id=\"T_f599b_row70_col0\" class=\"data row70 col0\" >10.136000</td>\n",
              "      <td id=\"T_f599b_row70_col1\" class=\"data row70 col1\" >6.679900</td>\n",
              "    </tr>\n",
              "    <tr>\n",
              "      <th id=\"T_f599b_level0_row71\" class=\"row_heading level0 row71\" >71</th>\n",
              "      <td id=\"T_f599b_row71_col0\" class=\"data row71 col0\" >7.334500</td>\n",
              "      <td id=\"T_f599b_row71_col1\" class=\"data row71 col1\" >4.025900</td>\n",
              "    </tr>\n",
              "    <tr>\n",
              "      <th id=\"T_f599b_level0_row72\" class=\"row_heading level0 row72\" >72</th>\n",
              "      <td id=\"T_f599b_row72_col0\" class=\"data row72 col0\" >6.006200</td>\n",
              "      <td id=\"T_f599b_row72_col1\" class=\"data row72 col1\" >1.278400</td>\n",
              "    </tr>\n",
              "    <tr>\n",
              "      <th id=\"T_f599b_level0_row73\" class=\"row_heading level0 row73\" >73</th>\n",
              "      <td id=\"T_f599b_row73_col0\" class=\"data row73 col0\" >7.225900</td>\n",
              "      <td id=\"T_f599b_row73_col1\" class=\"data row73 col1\" >3.341100</td>\n",
              "    </tr>\n",
              "    <tr>\n",
              "      <th id=\"T_f599b_level0_row74\" class=\"row_heading level0 row74\" >74</th>\n",
              "      <td id=\"T_f599b_row74_col0\" class=\"data row74 col0\" >5.026900</td>\n",
              "      <td id=\"T_f599b_row74_col1\" class=\"data row74 col1\" >-2.680700</td>\n",
              "    </tr>\n",
              "    <tr>\n",
              "      <th id=\"T_f599b_level0_row75\" class=\"row_heading level0 row75\" >75</th>\n",
              "      <td id=\"T_f599b_row75_col0\" class=\"data row75 col0\" >6.547900</td>\n",
              "      <td id=\"T_f599b_row75_col1\" class=\"data row75 col1\" >0.296780</td>\n",
              "    </tr>\n",
              "    <tr>\n",
              "      <th id=\"T_f599b_level0_row76\" class=\"row_heading level0 row76\" >76</th>\n",
              "      <td id=\"T_f599b_row76_col0\" class=\"data row76 col0\" >7.538600</td>\n",
              "      <td id=\"T_f599b_row76_col1\" class=\"data row76 col1\" >3.884500</td>\n",
              "    </tr>\n",
              "    <tr>\n",
              "      <th id=\"T_f599b_level0_row77\" class=\"row_heading level0 row77\" >77</th>\n",
              "      <td id=\"T_f599b_row77_col0\" class=\"data row77 col0\" >5.036500</td>\n",
              "      <td id=\"T_f599b_row77_col1\" class=\"data row77 col1\" >5.701400</td>\n",
              "    </tr>\n",
              "    <tr>\n",
              "      <th id=\"T_f599b_level0_row78\" class=\"row_heading level0 row78\" >78</th>\n",
              "      <td id=\"T_f599b_row78_col0\" class=\"data row78 col0\" >10.274000</td>\n",
              "      <td id=\"T_f599b_row78_col1\" class=\"data row78 col1\" >6.752600</td>\n",
              "    </tr>\n",
              "    <tr>\n",
              "      <th id=\"T_f599b_level0_row79\" class=\"row_heading level0 row79\" >79</th>\n",
              "      <td id=\"T_f599b_row79_col0\" class=\"data row79 col0\" >5.107700</td>\n",
              "      <td id=\"T_f599b_row79_col1\" class=\"data row79 col1\" >2.057600</td>\n",
              "    </tr>\n",
              "    <tr>\n",
              "      <th id=\"T_f599b_level0_row80\" class=\"row_heading level0 row80\" >80</th>\n",
              "      <td id=\"T_f599b_row80_col0\" class=\"data row80 col0\" >5.729200</td>\n",
              "      <td id=\"T_f599b_row80_col1\" class=\"data row80 col1\" >0.479530</td>\n",
              "    </tr>\n",
              "    <tr>\n",
              "      <th id=\"T_f599b_level0_row81\" class=\"row_heading level0 row81\" >81</th>\n",
              "      <td id=\"T_f599b_row81_col0\" class=\"data row81 col0\" >5.188400</td>\n",
              "      <td id=\"T_f599b_row81_col1\" class=\"data row81 col1\" >0.204210</td>\n",
              "    </tr>\n",
              "    <tr>\n",
              "      <th id=\"T_f599b_level0_row82\" class=\"row_heading level0 row82\" >82</th>\n",
              "      <td id=\"T_f599b_row82_col0\" class=\"data row82 col0\" >6.355700</td>\n",
              "      <td id=\"T_f599b_row82_col1\" class=\"data row82 col1\" >0.678610</td>\n",
              "    </tr>\n",
              "    <tr>\n",
              "      <th id=\"T_f599b_level0_row83\" class=\"row_heading level0 row83\" >83</th>\n",
              "      <td id=\"T_f599b_row83_col0\" class=\"data row83 col0\" >9.768700</td>\n",
              "      <td id=\"T_f599b_row83_col1\" class=\"data row83 col1\" >7.543500</td>\n",
              "    </tr>\n",
              "    <tr>\n",
              "      <th id=\"T_f599b_level0_row84\" class=\"row_heading level0 row84\" >84</th>\n",
              "      <td id=\"T_f599b_row84_col0\" class=\"data row84 col0\" >6.515900</td>\n",
              "      <td id=\"T_f599b_row84_col1\" class=\"data row84 col1\" >5.343600</td>\n",
              "    </tr>\n",
              "    <tr>\n",
              "      <th id=\"T_f599b_level0_row85\" class=\"row_heading level0 row85\" >85</th>\n",
              "      <td id=\"T_f599b_row85_col0\" class=\"data row85 col0\" >8.517200</td>\n",
              "      <td id=\"T_f599b_row85_col1\" class=\"data row85 col1\" >4.241500</td>\n",
              "    </tr>\n",
              "    <tr>\n",
              "      <th id=\"T_f599b_level0_row86\" class=\"row_heading level0 row86\" >86</th>\n",
              "      <td id=\"T_f599b_row86_col0\" class=\"data row86 col0\" >9.180200</td>\n",
              "      <td id=\"T_f599b_row86_col1\" class=\"data row86 col1\" >6.798100</td>\n",
              "    </tr>\n",
              "    <tr>\n",
              "      <th id=\"T_f599b_level0_row87\" class=\"row_heading level0 row87\" >87</th>\n",
              "      <td id=\"T_f599b_row87_col0\" class=\"data row87 col0\" >6.002000</td>\n",
              "      <td id=\"T_f599b_row87_col1\" class=\"data row87 col1\" >0.926950</td>\n",
              "    </tr>\n",
              "    <tr>\n",
              "      <th id=\"T_f599b_level0_row88\" class=\"row_heading level0 row88\" >88</th>\n",
              "      <td id=\"T_f599b_row88_col0\" class=\"data row88 col0\" >5.520400</td>\n",
              "      <td id=\"T_f599b_row88_col1\" class=\"data row88 col1\" >0.152000</td>\n",
              "    </tr>\n",
              "    <tr>\n",
              "      <th id=\"T_f599b_level0_row89\" class=\"row_heading level0 row89\" >89</th>\n",
              "      <td id=\"T_f599b_row89_col0\" class=\"data row89 col0\" >5.059400</td>\n",
              "      <td id=\"T_f599b_row89_col1\" class=\"data row89 col1\" >2.821400</td>\n",
              "    </tr>\n",
              "    <tr>\n",
              "      <th id=\"T_f599b_level0_row90\" class=\"row_heading level0 row90\" >90</th>\n",
              "      <td id=\"T_f599b_row90_col0\" class=\"data row90 col0\" >5.707700</td>\n",
              "      <td id=\"T_f599b_row90_col1\" class=\"data row90 col1\" >1.845100</td>\n",
              "    </tr>\n",
              "    <tr>\n",
              "      <th id=\"T_f599b_level0_row91\" class=\"row_heading level0 row91\" >91</th>\n",
              "      <td id=\"T_f599b_row91_col0\" class=\"data row91 col0\" >7.636600</td>\n",
              "      <td id=\"T_f599b_row91_col1\" class=\"data row91 col1\" >4.295900</td>\n",
              "    </tr>\n",
              "    <tr>\n",
              "      <th id=\"T_f599b_level0_row92\" class=\"row_heading level0 row92\" >92</th>\n",
              "      <td id=\"T_f599b_row92_col0\" class=\"data row92 col0\" >5.870700</td>\n",
              "      <td id=\"T_f599b_row92_col1\" class=\"data row92 col1\" >7.202900</td>\n",
              "    </tr>\n",
              "    <tr>\n",
              "      <th id=\"T_f599b_level0_row93\" class=\"row_heading level0 row93\" >93</th>\n",
              "      <td id=\"T_f599b_row93_col0\" class=\"data row93 col0\" >5.305400</td>\n",
              "      <td id=\"T_f599b_row93_col1\" class=\"data row93 col1\" >1.986900</td>\n",
              "    </tr>\n",
              "    <tr>\n",
              "      <th id=\"T_f599b_level0_row94\" class=\"row_heading level0 row94\" >94</th>\n",
              "      <td id=\"T_f599b_row94_col0\" class=\"data row94 col0\" >8.293400</td>\n",
              "      <td id=\"T_f599b_row94_col1\" class=\"data row94 col1\" >0.144540</td>\n",
              "    </tr>\n",
              "    <tr>\n",
              "      <th id=\"T_f599b_level0_row95\" class=\"row_heading level0 row95\" >95</th>\n",
              "      <td id=\"T_f599b_row95_col0\" class=\"data row95 col0\" >13.394000</td>\n",
              "      <td id=\"T_f599b_row95_col1\" class=\"data row95 col1\" >9.055100</td>\n",
              "    </tr>\n",
              "    <tr>\n",
              "      <th id=\"T_f599b_level0_row96\" class=\"row_heading level0 row96\" >96</th>\n",
              "      <td id=\"T_f599b_row96_col0\" class=\"data row96 col0\" >5.436900</td>\n",
              "      <td id=\"T_f599b_row96_col1\" class=\"data row96 col1\" >0.617050</td>\n",
              "    </tr>\n",
              "  </tbody>\n",
              "</table>\n"
            ]
          },
          "metadata": {}
        }
      ]
    },
    {
      "cell_type": "code",
      "source": [
        "#After dataframe was imported with left aligned. It showed that dataframe has 2 columns. We could use Linear regression model"
      ],
      "metadata": {
        "id": "Bo4f3buECB4l"
      },
      "execution_count": 10,
      "outputs": []
    },
    {
      "cell_type": "markdown",
      "source": [
        "###Task 4: Perform Data Exploratory Analysis (EDA)"
      ],
      "metadata": {
        "id": "SkMn3j24W4HV"
      }
    },
    {
      "cell_type": "markdown",
      "source": [
        "###Show the data"
      ],
      "metadata": {
        "id": "Y1ZJtBRUXBeW"
      }
    },
    {
      "cell_type": "code",
      "source": [
        "Ft.head()"
      ],
      "metadata": {
        "colab": {
          "base_uri": "https://localhost:8080/",
          "height": 206
        },
        "id": "JuK1ruj3XDrg",
        "outputId": "f1cd761e-1183-4b4b-ff73-5f4260e01036"
      },
      "execution_count": 11,
      "outputs": [
        {
          "output_type": "execute_result",
          "data": {
            "text/plain": [
              "   Population   Profit\n",
              "0      6.1101  17.5920\n",
              "1      5.5277   9.1302\n",
              "2      8.5186  13.6620\n",
              "3      7.0032  11.8540\n",
              "4      5.8598   6.8233"
            ],
            "text/html": [
              "\n",
              "  <div id=\"df-4a79b41e-1971-4c55-b827-20bbea9e3419\">\n",
              "    <div class=\"colab-df-container\">\n",
              "      <div>\n",
              "<style scoped>\n",
              "    .dataframe tbody tr th:only-of-type {\n",
              "        vertical-align: middle;\n",
              "    }\n",
              "\n",
              "    .dataframe tbody tr th {\n",
              "        vertical-align: top;\n",
              "    }\n",
              "\n",
              "    .dataframe thead th {\n",
              "        text-align: right;\n",
              "    }\n",
              "</style>\n",
              "<table border=\"1\" class=\"dataframe\">\n",
              "  <thead>\n",
              "    <tr style=\"text-align: right;\">\n",
              "      <th></th>\n",
              "      <th>Population</th>\n",
              "      <th>Profit</th>\n",
              "    </tr>\n",
              "  </thead>\n",
              "  <tbody>\n",
              "    <tr>\n",
              "      <th>0</th>\n",
              "      <td>6.1101</td>\n",
              "      <td>17.5920</td>\n",
              "    </tr>\n",
              "    <tr>\n",
              "      <th>1</th>\n",
              "      <td>5.5277</td>\n",
              "      <td>9.1302</td>\n",
              "    </tr>\n",
              "    <tr>\n",
              "      <th>2</th>\n",
              "      <td>8.5186</td>\n",
              "      <td>13.6620</td>\n",
              "    </tr>\n",
              "    <tr>\n",
              "      <th>3</th>\n",
              "      <td>7.0032</td>\n",
              "      <td>11.8540</td>\n",
              "    </tr>\n",
              "    <tr>\n",
              "      <th>4</th>\n",
              "      <td>5.8598</td>\n",
              "      <td>6.8233</td>\n",
              "    </tr>\n",
              "  </tbody>\n",
              "</table>\n",
              "</div>\n",
              "      <button class=\"colab-df-convert\" onclick=\"convertToInteractive('df-4a79b41e-1971-4c55-b827-20bbea9e3419')\"\n",
              "              title=\"Convert this dataframe to an interactive table.\"\n",
              "              style=\"display:none;\">\n",
              "        \n",
              "  <svg xmlns=\"http://www.w3.org/2000/svg\" height=\"24px\"viewBox=\"0 0 24 24\"\n",
              "       width=\"24px\">\n",
              "    <path d=\"M0 0h24v24H0V0z\" fill=\"none\"/>\n",
              "    <path d=\"M18.56 5.44l.94 2.06.94-2.06 2.06-.94-2.06-.94-.94-2.06-.94 2.06-2.06.94zm-11 1L8.5 8.5l.94-2.06 2.06-.94-2.06-.94L8.5 2.5l-.94 2.06-2.06.94zm10 10l.94 2.06.94-2.06 2.06-.94-2.06-.94-.94-2.06-.94 2.06-2.06.94z\"/><path d=\"M17.41 7.96l-1.37-1.37c-.4-.4-.92-.59-1.43-.59-.52 0-1.04.2-1.43.59L10.3 9.45l-7.72 7.72c-.78.78-.78 2.05 0 2.83L4 21.41c.39.39.9.59 1.41.59.51 0 1.02-.2 1.41-.59l7.78-7.78 2.81-2.81c.8-.78.8-2.07 0-2.86zM5.41 20L4 18.59l7.72-7.72 1.47 1.35L5.41 20z\"/>\n",
              "  </svg>\n",
              "      </button>\n",
              "      \n",
              "  <style>\n",
              "    .colab-df-container {\n",
              "      display:flex;\n",
              "      flex-wrap:wrap;\n",
              "      gap: 12px;\n",
              "    }\n",
              "\n",
              "    .colab-df-convert {\n",
              "      background-color: #E8F0FE;\n",
              "      border: none;\n",
              "      border-radius: 50%;\n",
              "      cursor: pointer;\n",
              "      display: none;\n",
              "      fill: #1967D2;\n",
              "      height: 32px;\n",
              "      padding: 0 0 0 0;\n",
              "      width: 32px;\n",
              "    }\n",
              "\n",
              "    .colab-df-convert:hover {\n",
              "      background-color: #E2EBFA;\n",
              "      box-shadow: 0px 1px 2px rgba(60, 64, 67, 0.3), 0px 1px 3px 1px rgba(60, 64, 67, 0.15);\n",
              "      fill: #174EA6;\n",
              "    }\n",
              "\n",
              "    [theme=dark] .colab-df-convert {\n",
              "      background-color: #3B4455;\n",
              "      fill: #D2E3FC;\n",
              "    }\n",
              "\n",
              "    [theme=dark] .colab-df-convert:hover {\n",
              "      background-color: #434B5C;\n",
              "      box-shadow: 0px 1px 3px 1px rgba(0, 0, 0, 0.15);\n",
              "      filter: drop-shadow(0px 1px 2px rgba(0, 0, 0, 0.3));\n",
              "      fill: #FFFFFF;\n",
              "    }\n",
              "  </style>\n",
              "\n",
              "      <script>\n",
              "        const buttonEl =\n",
              "          document.querySelector('#df-4a79b41e-1971-4c55-b827-20bbea9e3419 button.colab-df-convert');\n",
              "        buttonEl.style.display =\n",
              "          google.colab.kernel.accessAllowed ? 'block' : 'none';\n",
              "\n",
              "        async function convertToInteractive(key) {\n",
              "          const element = document.querySelector('#df-4a79b41e-1971-4c55-b827-20bbea9e3419');\n",
              "          const dataTable =\n",
              "            await google.colab.kernel.invokeFunction('convertToInteractive',\n",
              "                                                     [key], {});\n",
              "          if (!dataTable) return;\n",
              "\n",
              "          const docLinkHtml = 'Like what you see? Visit the ' +\n",
              "            '<a target=\"_blank\" href=https://colab.research.google.com/notebooks/data_table.ipynb>data table notebook</a>'\n",
              "            + ' to learn more about interactive tables.';\n",
              "          element.innerHTML = '';\n",
              "          dataTable['output_type'] = 'display_data';\n",
              "          await google.colab.output.renderOutput(dataTable, element);\n",
              "          const docLink = document.createElement('div');\n",
              "          docLink.innerHTML = docLinkHtml;\n",
              "          element.appendChild(docLink);\n",
              "        }\n",
              "      </script>\n",
              "    </div>\n",
              "  </div>\n",
              "  "
            ]
          },
          "metadata": {},
          "execution_count": 11
        }
      ]
    },
    {
      "cell_type": "code",
      "source": [
        "#Displaying the first 5 rows of the dataset"
      ],
      "metadata": {
        "id": "MDNZWBEWJHVY"
      },
      "execution_count": 12,
      "outputs": []
    },
    {
      "cell_type": "markdown",
      "source": [
        "###Get Data Info"
      ],
      "metadata": {
        "id": "sIoG-YsrXZtd"
      }
    },
    {
      "cell_type": "code",
      "source": [
        "Ft.info()"
      ],
      "metadata": {
        "colab": {
          "base_uri": "https://localhost:8080/"
        },
        "id": "8WpyuHvUW9NK",
        "outputId": "a0f02012-3e14-438b-923a-fec1f114dc4a"
      },
      "execution_count": 13,
      "outputs": [
        {
          "output_type": "stream",
          "name": "stdout",
          "text": [
            "<class 'pandas.core.frame.DataFrame'>\n",
            "RangeIndex: 97 entries, 0 to 96\n",
            "Data columns (total 2 columns):\n",
            " #   Column      Non-Null Count  Dtype  \n",
            "---  ------      --------------  -----  \n",
            " 0   Population  97 non-null     float64\n",
            " 1   Profit      97 non-null     float64\n",
            "dtypes: float64(2)\n",
            "memory usage: 1.6 KB\n"
          ]
        }
      ]
    },
    {
      "cell_type": "code",
      "source": [
        "#the dataset is fairly small showing 97 rows and 2 columns"
      ],
      "metadata": {
        "id": "x8J-rWOQABWp"
      },
      "execution_count": 14,
      "outputs": []
    },
    {
      "cell_type": "code",
      "source": [
        "Ft.describe()"
      ],
      "metadata": {
        "colab": {
          "base_uri": "https://localhost:8080/",
          "height": 300
        },
        "id": "oIr-LCAMtOg_",
        "outputId": "ab18c3da-c1c4-42e3-b403-53ce533c9a38"
      },
      "execution_count": 15,
      "outputs": [
        {
          "output_type": "execute_result",
          "data": {
            "text/plain": [
              "       Population     Profit\n",
              "count   97.000000  97.000000\n",
              "mean     8.159800   5.839135\n",
              "std      3.869884   5.510262\n",
              "min      5.026900  -2.680700\n",
              "25%      5.707700   1.986900\n",
              "50%      6.589400   4.562300\n",
              "75%      8.578100   7.046700\n",
              "max     22.203000  24.147000"
            ],
            "text/html": [
              "\n",
              "  <div id=\"df-78d35414-c260-4655-a3df-a225c36a19ac\">\n",
              "    <div class=\"colab-df-container\">\n",
              "      <div>\n",
              "<style scoped>\n",
              "    .dataframe tbody tr th:only-of-type {\n",
              "        vertical-align: middle;\n",
              "    }\n",
              "\n",
              "    .dataframe tbody tr th {\n",
              "        vertical-align: top;\n",
              "    }\n",
              "\n",
              "    .dataframe thead th {\n",
              "        text-align: right;\n",
              "    }\n",
              "</style>\n",
              "<table border=\"1\" class=\"dataframe\">\n",
              "  <thead>\n",
              "    <tr style=\"text-align: right;\">\n",
              "      <th></th>\n",
              "      <th>Population</th>\n",
              "      <th>Profit</th>\n",
              "    </tr>\n",
              "  </thead>\n",
              "  <tbody>\n",
              "    <tr>\n",
              "      <th>count</th>\n",
              "      <td>97.000000</td>\n",
              "      <td>97.000000</td>\n",
              "    </tr>\n",
              "    <tr>\n",
              "      <th>mean</th>\n",
              "      <td>8.159800</td>\n",
              "      <td>5.839135</td>\n",
              "    </tr>\n",
              "    <tr>\n",
              "      <th>std</th>\n",
              "      <td>3.869884</td>\n",
              "      <td>5.510262</td>\n",
              "    </tr>\n",
              "    <tr>\n",
              "      <th>min</th>\n",
              "      <td>5.026900</td>\n",
              "      <td>-2.680700</td>\n",
              "    </tr>\n",
              "    <tr>\n",
              "      <th>25%</th>\n",
              "      <td>5.707700</td>\n",
              "      <td>1.986900</td>\n",
              "    </tr>\n",
              "    <tr>\n",
              "      <th>50%</th>\n",
              "      <td>6.589400</td>\n",
              "      <td>4.562300</td>\n",
              "    </tr>\n",
              "    <tr>\n",
              "      <th>75%</th>\n",
              "      <td>8.578100</td>\n",
              "      <td>7.046700</td>\n",
              "    </tr>\n",
              "    <tr>\n",
              "      <th>max</th>\n",
              "      <td>22.203000</td>\n",
              "      <td>24.147000</td>\n",
              "    </tr>\n",
              "  </tbody>\n",
              "</table>\n",
              "</div>\n",
              "      <button class=\"colab-df-convert\" onclick=\"convertToInteractive('df-78d35414-c260-4655-a3df-a225c36a19ac')\"\n",
              "              title=\"Convert this dataframe to an interactive table.\"\n",
              "              style=\"display:none;\">\n",
              "        \n",
              "  <svg xmlns=\"http://www.w3.org/2000/svg\" height=\"24px\"viewBox=\"0 0 24 24\"\n",
              "       width=\"24px\">\n",
              "    <path d=\"M0 0h24v24H0V0z\" fill=\"none\"/>\n",
              "    <path d=\"M18.56 5.44l.94 2.06.94-2.06 2.06-.94-2.06-.94-.94-2.06-.94 2.06-2.06.94zm-11 1L8.5 8.5l.94-2.06 2.06-.94-2.06-.94L8.5 2.5l-.94 2.06-2.06.94zm10 10l.94 2.06.94-2.06 2.06-.94-2.06-.94-.94-2.06-.94 2.06-2.06.94z\"/><path d=\"M17.41 7.96l-1.37-1.37c-.4-.4-.92-.59-1.43-.59-.52 0-1.04.2-1.43.59L10.3 9.45l-7.72 7.72c-.78.78-.78 2.05 0 2.83L4 21.41c.39.39.9.59 1.41.59.51 0 1.02-.2 1.41-.59l7.78-7.78 2.81-2.81c.8-.78.8-2.07 0-2.86zM5.41 20L4 18.59l7.72-7.72 1.47 1.35L5.41 20z\"/>\n",
              "  </svg>\n",
              "      </button>\n",
              "      \n",
              "  <style>\n",
              "    .colab-df-container {\n",
              "      display:flex;\n",
              "      flex-wrap:wrap;\n",
              "      gap: 12px;\n",
              "    }\n",
              "\n",
              "    .colab-df-convert {\n",
              "      background-color: #E8F0FE;\n",
              "      border: none;\n",
              "      border-radius: 50%;\n",
              "      cursor: pointer;\n",
              "      display: none;\n",
              "      fill: #1967D2;\n",
              "      height: 32px;\n",
              "      padding: 0 0 0 0;\n",
              "      width: 32px;\n",
              "    }\n",
              "\n",
              "    .colab-df-convert:hover {\n",
              "      background-color: #E2EBFA;\n",
              "      box-shadow: 0px 1px 2px rgba(60, 64, 67, 0.3), 0px 1px 3px 1px rgba(60, 64, 67, 0.15);\n",
              "      fill: #174EA6;\n",
              "    }\n",
              "\n",
              "    [theme=dark] .colab-df-convert {\n",
              "      background-color: #3B4455;\n",
              "      fill: #D2E3FC;\n",
              "    }\n",
              "\n",
              "    [theme=dark] .colab-df-convert:hover {\n",
              "      background-color: #434B5C;\n",
              "      box-shadow: 0px 1px 3px 1px rgba(0, 0, 0, 0.15);\n",
              "      filter: drop-shadow(0px 1px 2px rgba(0, 0, 0, 0.3));\n",
              "      fill: #FFFFFF;\n",
              "    }\n",
              "  </style>\n",
              "\n",
              "      <script>\n",
              "        const buttonEl =\n",
              "          document.querySelector('#df-78d35414-c260-4655-a3df-a225c36a19ac button.colab-df-convert');\n",
              "        buttonEl.style.display =\n",
              "          google.colab.kernel.accessAllowed ? 'block' : 'none';\n",
              "\n",
              "        async function convertToInteractive(key) {\n",
              "          const element = document.querySelector('#df-78d35414-c260-4655-a3df-a225c36a19ac');\n",
              "          const dataTable =\n",
              "            await google.colab.kernel.invokeFunction('convertToInteractive',\n",
              "                                                     [key], {});\n",
              "          if (!dataTable) return;\n",
              "\n",
              "          const docLinkHtml = 'Like what you see? Visit the ' +\n",
              "            '<a target=\"_blank\" href=https://colab.research.google.com/notebooks/data_table.ipynb>data table notebook</a>'\n",
              "            + ' to learn more about interactive tables.';\n",
              "          element.innerHTML = '';\n",
              "          dataTable['output_type'] = 'display_data';\n",
              "          await google.colab.output.renderOutput(dataTable, element);\n",
              "          const docLink = document.createElement('div');\n",
              "          docLink.innerHTML = docLinkHtml;\n",
              "          element.appendChild(docLink);\n",
              "        }\n",
              "      </script>\n",
              "    </div>\n",
              "  </div>\n",
              "  "
            ]
          },
          "metadata": {},
          "execution_count": 15
        }
      ]
    },
    {
      "cell_type": "code",
      "source": [
        "#basic statistics "
      ],
      "metadata": {
        "id": "fnthAExrCznq"
      },
      "execution_count": 16,
      "outputs": []
    },
    {
      "cell_type": "code",
      "source": [
        "Ft.dtypes"
      ],
      "metadata": {
        "colab": {
          "base_uri": "https://localhost:8080/"
        },
        "id": "LALsuoxyZaZ5",
        "outputId": "217af464-077a-4fb8-fd25-81fb3b9ac494"
      },
      "execution_count": 17,
      "outputs": [
        {
          "output_type": "execute_result",
          "data": {
            "text/plain": [
              "Population    float64\n",
              "Profit        float64\n",
              "dtype: object"
            ]
          },
          "metadata": {},
          "execution_count": 17
        }
      ]
    },
    {
      "cell_type": "code",
      "source": [
        "#The dataset shows the 2 columns are in float dtype"
      ],
      "metadata": {
        "id": "le4VfNKVAW7q"
      },
      "execution_count": 18,
      "outputs": []
    },
    {
      "cell_type": "markdown",
      "source": [
        "###Find Missing values"
      ],
      "metadata": {
        "id": "XwGujeh3Xf2e"
      }
    },
    {
      "cell_type": "code",
      "source": [
        "Ft.isnull(). values. any()"
      ],
      "metadata": {
        "colab": {
          "base_uri": "https://localhost:8080/"
        },
        "id": "EELAufZXXlFU",
        "outputId": "0dcfe8d8-31bc-4d28-fa6c-c436a6ecca26"
      },
      "execution_count": 19,
      "outputs": [
        {
          "output_type": "execute_result",
          "data": {
            "text/plain": [
              "False"
            ]
          },
          "metadata": {},
          "execution_count": 19
        }
      ]
    },
    {
      "cell_type": "code",
      "source": [
        "##there are no missing values"
      ],
      "metadata": {
        "id": "FfdQgaKE84XV"
      },
      "execution_count": 20,
      "outputs": []
    },
    {
      "cell_type": "markdown",
      "source": [
        "###Task 5: Perform Data Cleaning"
      ],
      "metadata": {
        "id": "YE1SnXorXrf2"
      }
    },
    {
      "cell_type": "code",
      "source": [
        "#Data is clean, it does not have missing values "
      ],
      "metadata": {
        "id": "QkIMgxAk898x"
      },
      "execution_count": 21,
      "outputs": []
    },
    {
      "cell_type": "code",
      "source": [
        "sns.heatmap(Ft.isnull(), yticklabels=False,cbar=False,cmap='viridis')"
      ],
      "metadata": {
        "colab": {
          "base_uri": "https://localhost:8080/",
          "height": 502
        },
        "id": "ReYPU_ygAmTs",
        "outputId": "5ce6953a-0ee8-4c60-c274-aff4d8f22c56"
      },
      "execution_count": 22,
      "outputs": [
        {
          "output_type": "execute_result",
          "data": {
            "text/plain": [
              "<matplotlib.axes._subplots.AxesSubplot at 0x7effb2c8b350>"
            ]
          },
          "metadata": {},
          "execution_count": 22
        },
        {
          "output_type": "display_data",
          "data": {
            "text/plain": [
              "<Figure size 864x576 with 1 Axes>"
            ],
            "image/png": "[encoded data removed]"
          },
          "metadata": {}
        }
      ]
    },
    {
      "cell_type": "code",
      "source": [
        "#The heatmap shows/proofs no missing values for the 2 columns.\n",
        "# If heatmap would've shown some other color other than purple then it would've identified the collumn that had the missing values."
      ],
      "metadata": {
        "id": "fl0mYSo7Ax4m"
      },
      "execution_count": 23,
      "outputs": []
    },
    {
      "cell_type": "code",
      "source": [
        "#another way to show the clean dataset is with a scatter plot"
      ],
      "metadata": {
        "id": "EswJFRDiDVpU"
      },
      "execution_count": 24,
      "outputs": []
    },
    {
      "cell_type": "code",
      "source": [
        "plt.scatter(data=Ft,x = 'Population', y = 'Profit')\n",
        "plt.title('Population Vs. Profit (over the 10,000')\n",
        "plt.xlabel(\"Population\")\n",
        "plt.ylabel(\"Profit\")\n",
        "plt.grid(color='red', linestyle='-.', linewidth=0.7)"
      ],
      "metadata": {
        "colab": {
          "base_uri": "https://localhost:8080/",
          "height": 518
        },
        "id": "GygbHwSWDuzA",
        "outputId": "fcf8f829-573f-4bf8-f5c1-f0676b31f5a8"
      },
      "execution_count": 25,
      "outputs": [
        {
          "output_type": "display_data",
          "data": {
            "text/plain": [
              "<Figure size 864x576 with 1 Axes>"
            ],
            "image/png": "[encoded data removed]"
          },
          "metadata": {}
        }
      ]
    },
    {
      "cell_type": "markdown",
      "source": [
        "###Task 6: Model Setup to do test data\n",
        "\n"
      ],
      "metadata": {
        "id": "UOJBWeUraZDG"
      }
    },
    {
      "cell_type": "code",
      "source": [
        "X = np.array(Ft['Population']).reshape(-1, 1)\n",
        "y = np.array(Ft['Profit']).reshape(-1, 1)"
      ],
      "metadata": {
        "id": "hIYXUUSxxAD6"
      },
      "execution_count": 26,
      "outputs": []
    },
    {
      "cell_type": "code",
      "source": [
        "X_train, X_test, y_train, y_test = train_test_split(X, y, test_size = 0.25, random_state= 12)"
      ],
      "metadata": {
        "id": "GdzbQKjfxK9x"
      },
      "execution_count": 27,
      "outputs": []
    },
    {
      "cell_type": "code",
      "source": [
        "#Trying to separate x & y\n",
        "#Converting each dataframe into numpy array\n",
        "#Dataframe has 2 columns\n",
        "#No need to drop any values in this dataframe"
      ],
      "metadata": {
        "id": "vROhx-Uh5Xw-"
      },
      "execution_count": 28,
      "outputs": []
    },
    {
      "cell_type": "markdown",
      "source": [
        "###Split data into train & test models"
      ],
      "metadata": {
        "id": "ykq7HPFr3w13"
      }
    },
    {
      "cell_type": "code",
      "source": [
        "regr = LinearRegression()\n",
        "\n",
        "regr.fit(X_train, y_train)\n",
        "\n",
        "print(regr.score(X_test, y_test))"
      ],
      "metadata": {
        "colab": {
          "base_uri": "https://localhost:8080/"
        },
        "id": "hpMtn7Nt4Aji",
        "outputId": "cbffb493-36d2-4129-f44c-e808eed54aa7"
      },
      "execution_count": 29,
      "outputs": [
        {
          "output_type": "stream",
          "name": "stdout",
          "text": [
            "0.6718135284356775\n"
          ]
        }
      ]
    },
    {
      "cell_type": "code",
      "source": [
        "##About 67 percent of accuracy?"
      ],
      "metadata": {
        "id": "9T3XJbzE5OMY"
      },
      "execution_count": 30,
      "outputs": []
    },
    {
      "cell_type": "markdown",
      "source": [
        "#Checking results"
      ],
      "metadata": {
        "id": "t8ARLO584fNq"
      }
    },
    {
      "cell_type": "code",
      "source": [
        "y_pred = regr.predict(X_test)\n",
        "\n",
        "plt.scatter(X_test, y_test, color ='b')\n",
        "\n",
        "plt.plot(X_test, y_pred, color ='k')\n",
        "\n",
        "plt.grid(color='red', linestyle='-.', linewidth=0.7)\n",
        "plt.scatter(data=Ft,x = 'Population', y = 'Profit')\n",
        "plt.title('Population Vs. Profit (over the 10,000')\n",
        "plt.xlabel(\"Population\")\n",
        "plt.ylabel(\"Profit\")\n",
        "\n",
        "plt.show()"
      ],
      "metadata": {
        "colab": {
          "base_uri": "https://localhost:8080/",
          "height": 518
        },
        "id": "zh7N2iqR4lH3",
        "outputId": "c0e9a244-672b-42d9-f4d3-20967862efdc"
      },
      "execution_count": 39,
      "outputs": [
        {
          "output_type": "display_data",
          "data": {
            "text/plain": [
              "<Figure size 864x576 with 1 Axes>"
            ],
            "image/png": "[encoded data removed]"
          },
          "metadata": {}
        }
      ]
    },
    {
      "cell_type": "code",
      "source": [
        "##Predicted values on scatter plot with a positive correlation between 65,000-68,000"
      ],
      "metadata": {
        "id": "olIYPoUt5ELy"
      },
      "execution_count": 32,
      "outputs": []
    },
    {
      "cell_type": "code",
      "source": [
        "#test #2 with test isze= 35 and random state =21"
      ],
      "metadata": {
        "id": "qPc3V3iYLidN"
      },
      "execution_count": 33,
      "outputs": []
    },
    {
      "cell_type": "code",
      "source": [
        "X_train, X_test, y_train, y_test = train_test_split(X, y, test_size = 0.35, random_state= 21)"
      ],
      "metadata": {
        "id": "C5J3mum0LFF-"
      },
      "execution_count": 34,
      "outputs": []
    },
    {
      "cell_type": "code",
      "source": [
        "y_pred = regr.predict(X_test)\n",
        "\n",
        "plt.scatter(X_test, y_test, color ='b')\n",
        "\n",
        "plt.plot(X_test, y_pred, color ='k')\n",
        "\n",
        "plt.grid(color='red', linestyle='-.', linewidth=0.7)\n",
        "plt.scatter(data=Ft,x = 'Population', y = 'Profit')\n",
        "plt.title('Population Vs. Profit (over the 10,000')\n",
        "plt.xlabel(\"Population\")\n",
        "plt.ylabel(\"Profit\")\n",
        "\n",
        "plt.show()"
      ],
      "metadata": {
        "colab": {
          "base_uri": "https://localhost:8080/",
          "height": 518
        },
        "id": "ZnxZKkBNLpuH",
        "outputId": "a097bd0e-0c33-402b-94fc-c26448f8c267"
      },
      "execution_count": 40,
      "outputs": [
        {
          "output_type": "display_data",
          "data": {
            "text/plain": [
              "<Figure size 864x576 with 1 Axes>"
            ],
            "image/png": "[encoded data removed]"
          },
          "metadata": {}
        }
      ]
    },
    {
      "cell_type": "code",
      "source": [
        "regr = LinearRegression()\n",
        "\n",
        "regr.fit(X_train, y_train)\n",
        "\n",
        "print(regr.score(X_test, y_test))"
      ],
      "metadata": {
        "colab": {
          "base_uri": "https://localhost:8080/"
        },
        "id": "rOQglDYuKhaC",
        "outputId": "72ea3cd8-458c-4381-eb4b-2845fbd9d06a"
      },
      "execution_count": 36,
      "outputs": [
        {
          "output_type": "stream",
          "name": "stdout",
          "text": [
            "0.7592346970963243\n"
          ]
        }
      ]
    },
    {
      "cell_type": "code",
      "source": [
        "###Findings:  test #2 shows a higher percent of accuracy of almost 76% by using a larger test size & a large random state with a positive correlation between 50,000 and 90,000"
      ],
      "metadata": {
        "id": "x1-aII9eKQJ3"
      },
      "execution_count": 38,
      "outputs": []
    }
  ]
}